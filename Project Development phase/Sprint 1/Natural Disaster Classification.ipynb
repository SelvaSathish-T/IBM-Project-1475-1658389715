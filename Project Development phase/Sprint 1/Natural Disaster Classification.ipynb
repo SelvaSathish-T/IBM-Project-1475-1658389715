{
 "cells": [
  {
   "cell_type": "code",
   "execution_count": 1,
   "metadata": {},
   "outputs": [],
   "source": [
    "import numpy as np\n",
    "from tensorflow.keras.models import Sequential\n",
    "from tensorflow.keras.layers import Dense, Flatten, Conv2D, MaxPooling2D\n",
    "from keras.preprocessing.image import ImageDataGenerator"
   ]
  },
  {
   "cell_type": "code",
   "execution_count": 2,
   "metadata": {},
   "outputs": [],
   "source": [
    "data_path = './Dataset/'\n",
    "batch_size = 32\n",
    "target_size = (64, 64)"
   ]
  },
  {
   "cell_type": "code",
   "execution_count": 3,
   "metadata": {},
   "outputs": [],
   "source": [
    "train_datagen = ImageDataGenerator(rescale=1./255,\n",
    "                                   shear_range=0.2,\n",
    "                                   zoom_range=0.2,\n",
    "                                   width_shift_range=0.1,\n",
    "                                   height_shift_range=0.1,\n",
    "                                   horizontal_flip=True,\n",
    "                                   validation_split=0.2)\n",
    "\n",
    "test_datagen = ImageDataGenerator(rescale=1. / 255, validation_split=0.2)"
   ]
  },
  {
   "cell_type": "code",
   "execution_count": 4,
   "metadata": {},
   "outputs": [
    {
     "name": "stdout",
     "output_type": "stream",
     "text": [
      "Found 3544 images belonging to 4 classes.\n",
      "Found 884 images belonging to 4 classes.\n"
     ]
    }
   ],
   "source": [
    "X_train = train_datagen.flow_from_directory(data_path,\n",
    "                                            target_size=target_size,\n",
    "                                            batch_size=batch_size,\n",
    "                                            color_mode=\"rgb\",\n",
    "                                            subset=\"training\",\n",
    "                                            class_mode='categorical')\n",
    "\n",
    "\n",
    "\n",
    "X_test = test_datagen.flow_from_directory(data_path,\n",
    "                                          target_size=target_size,\n",
    "                                          batch_size=batch_size,\n",
    "                                          color_mode=\"rgb\",\n",
    "                                          subset=\"validation\",\n",
    "                                          class_mode='categorical')"
   ]
  }
 ],
 "metadata": {
  "kernelspec": {
   "display_name": "Python 3.10.7 ('venv': venv)",
   "language": "python",
   "name": "python3"
  },
  "language_info": {
   "codemirror_mode": {
    "name": "ipython",
    "version": 3
   },
   "file_extension": ".py",
   "mimetype": "text/x-python",
   "name": "python",
   "nbconvert_exporter": "python",
   "pygments_lexer": "ipython3",
   "version": "3.10.7"
  },
  "orig_nbformat": 4,
  "vscode": {
   "interpreter": {
    "hash": "73068527651fcbbb9a03169aa25b3f8ec4401b02e6f809afa2b71c2ec4d7276a"
   }
  }
 },
 "nbformat": 4,
 "nbformat_minor": 2
}
